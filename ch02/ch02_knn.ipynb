{
 "cells": [
  {
   "cell_type": "markdown",
   "metadata": {},
   "source": [
    "# k-近邻算法\n",
    "### 优点：精度高、对异常值不敏感；\n",
    "### 缺点：计算复杂度高、空间复杂度高"
   ]
  },
  {
   "cell_type": "markdown",
   "metadata": {},
   "source": [
    "## 1、使用纯python实现k近邻算法"
   ]
  },
  {
   "cell_type": "code",
   "execution_count": 29,
   "metadata": {
    "collapsed": false
   },
   "outputs": [],
   "source": [
    "import logging\n",
    "import operator\n",
    "logging.basicConfig(level = logging.DEBUG)\n",
    "\n",
    "# 创建数据集\n",
    "def createDataSet():\n",
    "    feature = [[1.0, 1.1],\n",
    "              [1.0, 1.0],\n",
    "              [0, 0],\n",
    "              [0, 0.1]]\n",
    "    labels = list('AABB')\n",
    "    return feature, labels\n",
    "\n",
    "\n",
    "# k近邻算法\n",
    "def classify0(inX, dataSet, labels, k):\n",
    "    dataSetSize = len(dataSet)\n",
    "    featureNum = len(dataSet[0])\n",
    "    \n",
    "    distants = []\n",
    "    for i in range(dataSetSize):\n",
    "        distant = 0\n",
    "        for j in range(featureNum):\n",
    "            distant += (dataSet[i][j]-inX[j])**2\n",
    "        distant = distant**0.5\n",
    "        distants.append(distant)\n",
    "        \n",
    "    logging.debug(distants)\n",
    "    \n",
    "    \n",
    "    kNearestIdx = []\n",
    "    kNearestLabel = {}\n",
    "    \n",
    "    for kk in range(k):\n",
    "        idxMin = -1\n",
    "        disMin = max(distants)\n",
    "        for idx in range(dataSetSize):\n",
    "            if (idx not in kNearestIdx) and distants[idx]<disMin:\n",
    "                idxMin = idx\n",
    "                disMin = distants[idx]\n",
    "\n",
    "        kNearestIdx.append(idxMin)\n",
    "        if labels[idxMin] not in kNearestLabel.keys():\n",
    "            kNearestLabel[labels[idxMin]] = 0\n",
    "        kNearestLabel[labels[idxMin]] += 1\n",
    "            \n",
    "    logging.debug(kNearestIdx)\n",
    "    logging.debug(kNearestLabel)\n",
    "    \n",
    "\n",
    "    sortedClassCount = sorted(kNearestLabel.items(), key=operator.itemgetter(1),reverse=True)\n",
    "    logging.debug(sortedClassCount)\n",
    "    return sortedClassCount[0][0]\n",
    "        "
   ]
  },
  {
   "cell_type": "code",
   "execution_count": 31,
   "metadata": {
    "collapsed": false
   },
   "outputs": [
    {
     "name": "stderr",
     "output_type": "stream",
     "text": [
      "DEBUG:root:[1.4866068747318506, 1.4142135623730951, 0.0, 0.1]\n",
      "DEBUG:root:[2, 3, 1]\n",
      "DEBUG:root:{'B': 2, 'A': 1}\n",
      "DEBUG:root:[('B', 2), ('A', 1)]\n"
     ]
    },
    {
     "data": {
      "text/plain": [
       "'B'"
      ]
     },
     "execution_count": 31,
     "metadata": {},
     "output_type": "execute_result"
    }
   ],
   "source": [
    "dataSet, labels = createDataSet()\n",
    "classify0([0.0,0.0], dataSet, labels, 3)"
   ]
  },
  {
   "cell_type": "code",
   "execution_count": null,
   "metadata": {
    "collapsed": true
   },
   "outputs": [],
   "source": []
  },
  {
   "cell_type": "markdown",
   "metadata": {},
   "source": [
    "## 2、使用Numpy实现k近邻算法"
   ]
  },
  {
   "cell_type": "code",
   "execution_count": 69,
   "metadata": {
    "collapsed": true
   },
   "outputs": [],
   "source": [
    "import numpy as np\n",
    "import logging\n",
    "import operator\n",
    "from collections import Counter\n",
    "logging.basicConfig(level = logging.DEBUG)\n",
    "\n",
    "def classify0(inX, dataSet, labels, k):\n",
    "    inX = np.array(inX)\n",
    "    dataSet = np.array(dataSet)\n",
    "    labels = np.array(labels)\n",
    "    \n",
    "    \n",
    "    diffMat = dataSet - inX\n",
    "    squareMat = np.square(diffMat)\n",
    "    squareDistant = np.sum(squareMat, axis=1)\n",
    "    distants = np.sqrt(squareDistant)\n",
    "    \n",
    "    logging.debug(distants)\n",
    "\n",
    "    kNearestIdx = np.argsort(distants)[:k]\n",
    "    kNearestLabels = labels[kNearestIdx]\n",
    "    logging.debug(kNearestIdx)\n",
    "    logging.debug(kNearestLabels)\n",
    "    \n",
    "    sortedClassCount = Counter(kNearestLabels)\n",
    "    logging.debug(sortedClassCount.most_common(1)[0][0])\n",
    "    return sortedClassCount.most_common(1)[0][0]"
   ]
  },
  {
   "cell_type": "code",
   "execution_count": 70,
   "metadata": {
    "collapsed": false
   },
   "outputs": [
    {
     "name": "stderr",
     "output_type": "stream",
     "text": [
      "DEBUG:root:[ 1.48660687  1.41421356  0.          0.1       ]\n",
      "DEBUG:root:[2 3 1]\n",
      "DEBUG:root:['B' 'B' 'A']\n",
      "DEBUG:root:B\n"
     ]
    },
    {
     "data": {
      "text/plain": [
       "'B'"
      ]
     },
     "execution_count": 70,
     "metadata": {},
     "output_type": "execute_result"
    }
   ],
   "source": [
    "dataSet, labels = createDataSet()\n",
    "classify0([0.0,0.0], dataSet, labels, 3)"
   ]
  },
  {
   "cell_type": "markdown",
   "metadata": {},
   "source": [
    "## 3、使用Sklearn中的k近邻算法"
   ]
  },
  {
   "cell_type": "code",
   "execution_count": null,
   "metadata": {
    "collapsed": true
   },
   "outputs": [],
   "source": []
  }
 ],
 "metadata": {
  "anaconda-cloud": {},
  "kernelspec": {
   "display_name": "Python [conda root]",
   "language": "python",
   "name": "conda-root-py"
  },
  "language_info": {
   "codemirror_mode": {
    "name": "ipython",
    "version": 3
   },
   "file_extension": ".py",
   "mimetype": "text/x-python",
   "name": "python",
   "nbconvert_exporter": "python",
   "pygments_lexer": "ipython3",
   "version": "3.5.2"
  }
 },
 "nbformat": 4,
 "nbformat_minor": 1
}
